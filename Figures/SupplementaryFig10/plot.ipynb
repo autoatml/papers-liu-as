{
 "cells": [
  {
   "cell_type": "code",
   "execution_count": null,
   "id": "05d65d9e",
   "metadata": {},
   "outputs": [],
   "source": [
    "import matplotlib.pyplot as plt\n",
    "import pandas as pd\n",
    "\n",
    "df1 = pd.read_csv(\"histogram_pc1.csv\")\n",
    "df2 = pd.read_csv(\"histogram_pc2.csv\")\n",
    "df3 = pd.read_csv(\"histogram_pc3.csv\")\n",
    "\n",
    "fig, axes = plt.subplots(nrows=3, ncols=1, figsize=(4, 5), sharex=True)\n",
    "\n",
    "# Plot PC1\n",
    "axes[0].plot(df1[\"bin_center\"], df1[\"count\"], '-', color=\"#C497b2\", label='PC1')\n",
    "axes[0].fill_between(df1[\"bin_center\"], df1[\"count\"], color=\"#C497b2\", alpha=0.1)\n",
    "axes[0].set_ylim(0, 100)\n",
    "axes[0].set_yticks(range(0, 101, 25))\n",
    "axes[0].set_xlim(-25, 25)\n",
    "axes[0].tick_params(labelbottom=False) \n",
    "\n",
    "# Plot PC2\n",
    "axes[1].plot(df2[\"bin_center\"], df2[\"count\"], '-', color=\"#C497b2\", label='PC2')\n",
    "axes[1].fill_between(df2[\"bin_center\"], df2[\"count\"], color=\"#C497b2\", alpha=0.1)\n",
    "axes[1].set_ylim(0, 80)\n",
    "axes[1].set_yticks(range(0, 81, 20))\n",
    "axes[1].set_xlim(-25, 25)\n",
    "axes[1].tick_params(labelbottom=False) \n",
    "\n",
    "# Plot PC3\n",
    "axes[2].plot(df3[\"bin_center\"], df3[\"count\"], '-', color=\"#C497b2\", label='PC3')\n",
    "axes[2].fill_between(df3[\"bin_center\"], df3[\"count\"], color=\"#C497b2\", alpha=0.1)\n",
    "axes[2].set_ylim(0, 160)\n",
    "axes[2].set_yticks(range(0, 161, 40))\n",
    "axes[2].set_xlim(-25, 25)\n",
    "\n",
    "axes[2].set_xlabel(\"Position (Å)\")\n",
    "axes[1].set_ylabel(\"Void count\")\n",
    "axes[0].legend(frameon=False)\n",
    "axes[1].legend(frameon=False)\n",
    "axes[2].legend(frameon=False)\n",
    "\n",
    "plt.show()"
   ]
  }
 ],
 "metadata": {
  "kernelspec": {
   "display_name": "lammps-env",
   "language": "python",
   "name": "python3"
  },
  "language_info": {
   "codemirror_mode": {
    "name": "ipython",
    "version": 3
   },
   "file_extension": ".py",
   "mimetype": "text/x-python",
   "name": "python",
   "nbconvert_exporter": "python",
   "pygments_lexer": "ipython3",
   "version": "3.10.13"
  },
  "vscode": {
   "interpreter": {
    "hash": "5ce25f40a3c56c0ea487ba434c356cd7a18393e9b0d4f8cb815a97a59988b369"
   }
  }
 },
 "nbformat": 4,
 "nbformat_minor": 5
}
