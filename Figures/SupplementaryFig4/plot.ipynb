{
 "cells": [
  {
   "cell_type": "code",
   "execution_count": null,
   "id": "308a7a1d",
   "metadata": {},
   "outputs": [],
   "source": [
    "import matplotlib.pyplot as plt\n",
    "import numpy as np\n",
    "import pandas as pd\n",
    "\n",
    "file_paths = [\n",
    "    \"r2scan_jr.txt\",\n",
    "    \"rdf_expt.csv\"\n",
    "]\n",
    "\n",
    "fig, ax = plt.subplots(figsize=(2.4, 2.4))\n",
    "data = pd.read_csv(file_paths[0], delim_whitespace=True, skiprows=1, header=None)\n",
    "x = data[0]/2.487\n",
    "y = data[1]\n",
    "plt.plot(x, y, color='red', linestyle='-', label='r2SCAN')\n",
    "\n",
    "data = pd.read_csv(\n",
    "    file_paths[1],\n",
    "    sep=\",\",\n",
    "    header=None,\n",
    "    names=[0, 1],     \n",
    "    skiprows=1,     \n",
    "    engine=\"python\"\n",
    ")\n",
    "x = data[0]/2.487\n",
    "y = data[1]\n",
    "plt.plot(x, y, color='gray', linestyle='--', dashes=[2, 1], label='Expt.')\n",
    "\n",
    "ax.set_xlabel(r\"Scaled distance\")\n",
    "ax.set_ylabel(r\"${J}$(${r}$) (atoms $\\mathrm{\\AA^{-1}}$)\")\n",
    "ax.set_xlim(0, 2.75)\n",
    "ax.set_xticks(np.arange(0, 2.75, 0.5))\n",
    "ax.set_ylim(-2, 30)\n",
    "ax.set_yticks(np.arange(0, 30.1, 10))\n",
    "ax.legend()\n",
    "ax.yaxis.set_tick_params(which='both', labelbottom=True, bottom=True, zorder=10)\n",
    "ax.xaxis.set_tick_params(which='both', labelbottom=True, bottom=True, zorder=10)\n",
    "\n",
    "plt.show()\n"
   ]
  }
 ],
 "metadata": {
  "kernelspec": {
   "display_name": "lammps-env",
   "language": "python",
   "name": "python3"
  },
  "language_info": {
   "codemirror_mode": {
    "name": "ipython",
    "version": 3
   },
   "file_extension": ".py",
   "mimetype": "text/x-python",
   "name": "python",
   "nbconvert_exporter": "python",
   "pygments_lexer": "ipython3",
   "version": "3.10.13"
  },
  "vscode": {
   "interpreter": {
    "hash": "5ce25f40a3c56c0ea487ba434c356cd7a18393e9b0d4f8cb815a97a59988b369"
   }
  }
 },
 "nbformat": 4,
 "nbformat_minor": 5
}
