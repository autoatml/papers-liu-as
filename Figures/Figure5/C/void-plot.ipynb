{
 "cells": [
  {
   "cell_type": "code",
   "execution_count": null,
   "id": "2f630414",
   "metadata": {},
   "outputs": [],
   "source": [
    "import matplotlib.pyplot as plt\n",
    "import pandas as pd\n",
    "\n",
    "df = pd.read_csv(\"histogram_pc1.csv\")\n",
    "\n",
    "fig, ax = plt.subplots(figsize=(3.5, 2.2))\n",
    "ax.plot(df[\"bin_center\"], df[\"count\"], '-', color=\"#7c87b5\", label='${a}$-P')\n",
    "ax.fill_between(df[\"bin_center\"], df[\"count\"], color=\"#7c87b5\", alpha=0.1)\n",
    "\n",
    "ax.set_xlabel('Position (Å)')\n",
    "ax.set_ylabel('Void count')\n",
    "ax.set_xlim(-25, 25)\n",
    "ax.set_ylim(0, 2500)\n",
    "ax.set_yticks([0, 500, 1000, 1500, 2000, 2500])\n",
    "ax.legend()\n",
    "\n",
    "plt.show()\n"
   ]
  }
 ],
 "metadata": {
  "kernelspec": {
   "display_name": "lammps-env",
   "language": "python",
   "name": "python3"
  },
  "language_info": {
   "codemirror_mode": {
    "name": "ipython",
    "version": 3
   },
   "file_extension": ".py",
   "mimetype": "text/x-python",
   "name": "python",
   "nbconvert_exporter": "python",
   "pygments_lexer": "ipython3",
   "version": "3.10.13"
  },
  "vscode": {
   "interpreter": {
    "hash": "5ce25f40a3c56c0ea487ba434c356cd7a18393e9b0d4f8cb815a97a59988b369"
   }
  }
 },
 "nbformat": 4,
 "nbformat_minor": 5
}
