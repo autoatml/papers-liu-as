{
 "cells": [
  {
   "cell_type": "code",
   "execution_count": null,
   "id": "7bb5fe81",
   "metadata": {},
   "outputs": [],
   "source": [
    "import matplotlib.pyplot as plt\n",
    "import numpy as np\n",
    "\n",
    "p_void_sq = [[7.542, 1.2186249236876376],\n",
    "        [5.841, 0.9469553737502018],\n",
    "        [3.846, 0.6785020018596073],\n",
    "        [1.831, 0.3261291282873958]\n",
    "]\n",
    "\n",
    "p_x, p_y = zip(*p_void_sq)\n",
    "\n",
    "\n",
    "as_void_fsdp = [\n",
    "[2.359, 0.5396124142829034],\n",
    "[1.34, 0.40034205909127085],\n",
    "[0.865, 0.3234981944830869],\n",
    "[0.423, 0.2286078575064271],\n",
    "]\n",
    "\n",
    "as_x, as_y = zip(*as_void_fsdp)\n",
    "\n",
    "fig, ax = plt.subplots(figsize=(1.8, 2.2))\n",
    "\n",
    "red = '#BF1D2D'\n",
    "blue = '#293890'\n",
    "black = '#262626'\n",
    "\n",
    "ax.plot(p_x, p_y, 'o-', label='${a}$-P', color='#7c87b5', markersize=3.5)\n",
    "ax.plot(as_x, as_y, 'o-', label='${a}$-As', color='#C17F91', markersize=3.5)\n",
    "\n",
    "ax.set_ylabel(\"Height of FSDP\")\n",
    "ax.set_xlabel(r\"Void radius ($10^{-3}$ Å atom$^{-1}$)\")\n",
    "ax.xaxis.set_tick_params(which='both', labelbottom=True, bottom=True)\n",
    "ax.yaxis.set_tick_params(which='both', labelbottom=True, bottom=True)\n",
    "ax.set_xlim([-1, 8])\n",
    "ax.set_xticks(np.arange(0, 8.1, 2))\n",
    "ax.set_ylim(0, 1.5)\n",
    "ax.set_yticks(np.arange(0, 1.51, 0.3))\n",
    "plt.legend()\n",
    "\n",
    "plt.show()"
   ]
  }
 ],
 "metadata": {
  "kernelspec": {
   "display_name": "lammps-env",
   "language": "python",
   "name": "python3"
  },
  "language_info": {
   "codemirror_mode": {
    "name": "ipython",
    "version": 3
   },
   "file_extension": ".py",
   "mimetype": "text/x-python",
   "name": "python",
   "nbconvert_exporter": "python",
   "pygments_lexer": "ipython3",
   "version": "3.10.13"
  },
  "vscode": {
   "interpreter": {
    "hash": "5ce25f40a3c56c0ea487ba434c356cd7a18393e9b0d4f8cb815a97a59988b369"
   }
  }
 },
 "nbformat": 4,
 "nbformat_minor": 5
}
