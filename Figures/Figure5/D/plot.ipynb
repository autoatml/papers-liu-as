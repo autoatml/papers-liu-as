{
 "cells": [
  {
   "cell_type": "code",
   "execution_count": null,
   "id": "b59d709e",
   "metadata": {},
   "outputs": [],
   "source": [
    "import matplotlib.pyplot as plt\n",
    "import numpy as np\n",
    "import pandas as pd\n",
    "import matplotlib as mpl\n",
    "from matplotlib.ticker import FuncFormatter\n",
    "\n",
    "as_data = pd.read_csv(\"void_statistics_as.csv\")\n",
    "rho_as = as_data[\"pressure\"].values\n",
    "r_as = as_data[\"avg_void_radius\"].values\n",
    "\n",
    "p_df = pd.read_csv(\"void_statistics_p.csv\")\n",
    "rho_p = p_df[\"pressure\"].values\n",
    "r_p = p_df[\"avg_void_radius\"].values\n",
    "\n",
    "scale_factor = 1000\n",
    "r_p_scaled = r_p / 1984 * scale_factor\n",
    "r_as_scaled = r_as / 2000 * scale_factor\n",
    "\n",
    "fig, ax = plt.subplots(figsize=(1.8, 2.2))\n",
    "ax.plot(rho_p, r_p_scaled, 'o-', label='${a}$-P', color='#7c87b5', markersize=3.5)\n",
    "ax.plot(rho_as[0:7:2], r_as_scaled[0:7:2], 'o-', label='${a}$-As', color='#C17F91', markersize=3.5)\n",
    "ax.set_xlabel(\"Pressure (GPa)\")\n",
    "ax.set_ylabel(r\"Void radius ($10^{-3}$ Å atom$^{-1}$)\")\n",
    "ax.set_xlim([-1, 7])\n",
    "ax.set_ylim([-0.5, 5])\n",
    "ax.set_xticks(np.arange(0, 6.1, 2))\n",
    "ax.set_yticks(np.arange(0, 5.1, 1))\n",
    "ax.yaxis.set_major_formatter(FuncFormatter(lambda y, _: f'{y:.0f}'))\n",
    "ax.xaxis.set_tick_params(which='both', labelbottom=True, bottom=True)\n",
    "ax.yaxis.set_tick_params(which='both', labelbottom=True, bottom=True)\n",
    "plt.legend()\n",
    "\n",
    "plt.show()\n"
   ]
  }
 ],
 "metadata": {
  "kernelspec": {
   "display_name": "lammps-env",
   "language": "python",
   "name": "python3"
  },
  "language_info": {
   "codemirror_mode": {
    "name": "ipython",
    "version": 3
   },
   "file_extension": ".py",
   "mimetype": "text/x-python",
   "name": "python",
   "nbconvert_exporter": "python",
   "pygments_lexer": "ipython3",
   "version": "3.10.13"
  },
  "vscode": {
   "interpreter": {
    "hash": "5ce25f40a3c56c0ea487ba434c356cd7a18393e9b0d4f8cb815a97a59988b369"
   }
  }
 },
 "nbformat": 4,
 "nbformat_minor": 5
}
