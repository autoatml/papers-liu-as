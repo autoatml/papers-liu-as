{
 "cells": [
  {
   "cell_type": "code",
   "execution_count": null,
   "id": "29f8cc3d",
   "metadata": {},
   "outputs": [],
   "source": [
    "import matplotlib.pyplot as plt\n",
    "import numpy as np\n",
    "\n",
    "fig, ax = plt.subplots(figsize=(3.0, 2.5))\n",
    "\n",
    "file_list = ['0gpa_out.txt', '2gpa_out.txt', '4gpa_out.txt', '6gpa_out.txt']\n",
    "\n",
    "color_palette = [\n",
    "    '#E25659',\n",
    "    '#EB8386',\n",
    "    '#F1A5A9',\n",
    "    '#F7CBCC',\n",
    "    '#F9E3E3',\n",
    "]\n",
    "\n",
    "colors = color_palette[:len(file_list)]\n",
    "\n",
    "bar_width = 0.15\n",
    "coord_range = np.arange(2, 6) \n",
    "\n",
    "for idx, filename in enumerate(file_list):\n",
    "    data = np.loadtxt(filename, skiprows=1)\n",
    "    coord = data[:, 0]\n",
    "    count = data[:, 1]\n",
    "\n",
    "    mask = (coord >= 2) & (coord <= 5)\n",
    "    coord = coord[mask].astype(int)\n",
    "    count = count[mask]\n",
    "\n",
    "    percentage = count / count.sum() * 100\n",
    "\n",
    "    x = np.arange(len(coord_range))\n",
    "    ax.bar(\n",
    "        x + idx * bar_width,\n",
    "        percentage,\n",
    "        width=bar_width,\n",
    "        label=filename.replace(\"gpa_out.txt\", \"\").replace(\"_\", \"\") + \" GPa\",\n",
    "        color=colors[idx % len(colors)],\n",
    "        edgecolor='black',\n",
    "        linewidth=0\n",
    "    )\n",
    "\n",
    "ax.set_xlabel('Coordination Number')\n",
    "ax.set_ylabel('Percentage (%)')\n",
    "ax.set_xticks(x + bar_width * (len(file_list) - 1) / 2)\n",
    "ax.set_xticklabels([str(i) for i in coord_range])\n",
    "ax.set_ylim(0, 100)\n",
    "ax.set_yticks(np.arange(0, 101, 20))\n",
    "ax.legend(frameon=False)\n",
    "\n",
    "plt.show()\n"
   ]
  }
 ],
 "metadata": {
  "kernelspec": {
   "display_name": "lammps-env",
   "language": "python",
   "name": "python3"
  },
  "language_info": {
   "codemirror_mode": {
    "name": "ipython",
    "version": 3
   },
   "file_extension": ".py",
   "mimetype": "text/x-python",
   "name": "python",
   "nbconvert_exporter": "python",
   "pygments_lexer": "ipython3",
   "version": "3.10.13"
  },
  "vscode": {
   "interpreter": {
    "hash": "5ce25f40a3c56c0ea487ba434c356cd7a18393e9b0d4f8cb815a97a59988b369"
   }
  }
 },
 "nbformat": 4,
 "nbformat_minor": 5
}
