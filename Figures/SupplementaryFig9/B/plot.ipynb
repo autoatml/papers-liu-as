{
 "cells": [
  {
   "cell_type": "code",
   "execution_count": null,
   "id": "3578246e",
   "metadata": {},
   "outputs": [],
   "source": [
    "import numpy as np\n",
    "import matplotlib.pyplot as plt\n",
    "\n",
    "dihedral_file = \"dihedral_angle.txt\"\n",
    "color = \"purple\"\n",
    "\n",
    "data = np.loadtxt(dihedral_file, comments=\"#\")\n",
    "centers_rad = data[:, 0]\n",
    "hist = data[:, 1]\n",
    "bin_width = centers_rad[1] - centers_rad[0]\n",
    "\n",
    "fig = plt.figure(figsize=(2.2, 2.2))\n",
    "ax = fig.add_subplot(111, polar=True)\n",
    "ax.set_theta_zero_location(\"S\")\n",
    "ax.set_theta_direction(1)\n",
    "ax.set_thetamin(-180)\n",
    "ax.set_thetamax(180)\n",
    "ax.set_yticks(np.linspace(0, 0.007, 4))\n",
    "ax.yaxis.grid(True, linestyle='--', linewidth=0.5, color='gray', zorder=0)\n",
    "ax.xaxis.grid(True, linestyle='--', linewidth=0.5, color='gray', zorder=0)\n",
    "ax.bar(centers_rad, hist, width=bin_width, align='center', alpha=0.8, color=color, zorder=5)\n",
    "ax.set_thetagrids(angles=[-135, -90, -45, 0, 45, 90, 135, 180],\n",
    "                  labels=[\"-135°\", \"-90°\", \"-45°\", \"0°\", \"45°\", \"90°\", \"135°\", \"±180°\"])\n",
    "ax.set_yticklabels([])\n",
    "ax.set_rlim(0, 0.007)\n",
    "\n",
    "plt.show()\n"
   ]
  }
 ],
 "metadata": {
  "kernelspec": {
   "display_name": "lammps-env",
   "language": "python",
   "name": "python3"
  },
  "language_info": {
   "codemirror_mode": {
    "name": "ipython",
    "version": 3
   },
   "file_extension": ".py",
   "mimetype": "text/x-python",
   "name": "python",
   "nbconvert_exporter": "python",
   "pygments_lexer": "ipython3",
   "version": "3.10.13"
  },
  "vscode": {
   "interpreter": {
    "hash": "5ce25f40a3c56c0ea487ba434c356cd7a18393e9b0d4f8cb815a97a59988b369"
   }
  }
 },
 "nbformat": 4,
 "nbformat_minor": 5
}
