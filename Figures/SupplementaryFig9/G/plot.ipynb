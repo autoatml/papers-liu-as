{
 "cells": [
  {
   "cell_type": "code",
   "execution_count": null,
   "id": "2804bdd2",
   "metadata": {},
   "outputs": [],
   "source": [
    "import matplotlib.pyplot as plt\n",
    "import numpy as np\n",
    "from scipy.stats import gaussian_kde\n",
    "\n",
    "as_angles = np.loadtxt(\"as_dumbbell_dihedrals.txt\", usecols=-1)\n",
    "p_angles = np.loadtxt(\"p_dumbbell_dihedrals.txt\", usecols=-1)\n",
    "\n",
    "x_vals = np.linspace(0, 180, 1000)\n",
    "as_kde = gaussian_kde(as_angles, bw_method=0.2)\n",
    "p_kde = gaussian_kde(p_angles, bw_method=0.2)\n",
    "\n",
    "fig, ax = plt.subplots(figsize=(3.8, 2.2))\n",
    "ax.plot(x_vals, as_kde(x_vals), label='a-As', color='#C17F91')\n",
    "ax.plot(x_vals, p_kde(x_vals), label='a-P', color='#7c87b5')\n",
    "\n",
    "ax.set_xlabel('Dihedral angle (°)')\n",
    "ax.set_ylabel('Probability density')\n",
    "ax.yaxis.set_tick_params(which='both', labelbottom=False, bottom=False, zorder=10)\n",
    "ax.set_xlim([0, 180])\n",
    "ax.set_xticks(np.arange(0, 181, 30))\n",
    "ax.set_ylim(bottom=0)\n",
    "ax.legend(frameon=False)\n",
    "ax.axvline(x=90, linestyle=\"--\", color=\"grey\", linewidth=0.7, zorder=0)\n",
    " \n",
    "plt.show()\n"
   ]
  }
 ],
 "metadata": {
  "kernelspec": {
   "display_name": "lammps-env",
   "language": "python",
   "name": "python3"
  },
  "language_info": {
   "codemirror_mode": {
    "name": "ipython",
    "version": 3
   },
   "file_extension": ".py",
   "mimetype": "text/x-python",
   "name": "python",
   "nbconvert_exporter": "python",
   "pygments_lexer": "ipython3",
   "version": "3.10.13"
  },
  "vscode": {
   "interpreter": {
    "hash": "5ce25f40a3c56c0ea487ba434c356cd7a18393e9b0d4f8cb815a97a59988b369"
   }
  }
 },
 "nbformat": 4,
 "nbformat_minor": 5
}
