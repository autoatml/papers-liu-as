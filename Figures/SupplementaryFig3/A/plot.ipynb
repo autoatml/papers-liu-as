{
 "cells": [
  {
   "cell_type": "code",
   "execution_count": null,
   "id": "29f8cc3d",
   "metadata": {},
   "outputs": [],
   "source": [
    "import matplotlib.pyplot as plt\n",
    "import numpy as np\n",
    "\n",
    "x_exp, y_exp = np.loadtxt('Sq_exp.txt', unpack=True)\n",
    "x_r2scan, y_r2scan = np.loadtxt('Sq_r2scan.txt', unpack=True)\n",
    "x_rvv10, y_rvv10 = np.loadtxt('Sq_tpss.txt', unpack=True)\n",
    "\n",
    "fig, ax = plt.subplots(figsize=(3, 3))\n",
    "ax.plot(x_exp, y_exp, '-', color='black', label='Expt.', markersize=2.0)\n",
    "ax.plot(x_r2scan,y_r2scan,'-', label=r'MACE($\\mathrm{r^{2}}$SCAN)', color='red')\n",
    "ax.plot(x_rvv10, y_rvv10, '-', label='MACE(TPSS)', color='blue')\n",
    "ax.xaxis.set_tick_params(which='both', labelbottom=True, bottom=True)\n",
    "ax.yaxis.set_tick_params(which='both', labelbottom=True, bottom=True)\n",
    "plt.xlabel(r\"${Q}$ ($\\mathrm{\\AA^{-1}}$)\")\n",
    "plt.ylabel(r\"Structure factor\")\n",
    "ax.set_xlim(-1.5, 16)\n",
    "ax.set_xticks(np.arange(0, 16.1, 4))\n",
    "ax.set_ylim(0, 2.0)\n",
    "ax.set_yticks(np.arange(0, 2.1, 1))\n",
    "ax.legend(frameon=False)\n",
    "\n",
    "for i in range(0,2,1):\n",
    "    ax.axhline(y=i, linestyle='--', linewidth=0.65, color='gray',zorder=0)\n",
    "\n",
    "plt.show()"
   ]
  }
 ],
 "metadata": {
  "kernelspec": {
   "display_name": "lammps-env",
   "language": "python",
   "name": "python3"
  },
  "language_info": {
   "codemirror_mode": {
    "name": "ipython",
    "version": 3
   },
   "file_extension": ".py",
   "mimetype": "text/x-python",
   "name": "python",
   "nbconvert_exporter": "python",
   "pygments_lexer": "ipython3",
   "version": "3.10.13"
  },
  "vscode": {
   "interpreter": {
    "hash": "5ce25f40a3c56c0ea487ba434c356cd7a18393e9b0d4f8cb815a97a59988b369"
   }
  }
 },
 "nbformat": 4,
 "nbformat_minor": 5
}
