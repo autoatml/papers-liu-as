{
 "cells": [
  {
   "cell_type": "code",
   "execution_count": null,
   "id": "6755326f",
   "metadata": {},
   "outputs": [],
   "source": [
    "import matplotlib.pyplot as plt\n",
    "import numpy as np\n",
    "\n",
    "x1_exp, y1_exp = np.loadtxt('Sq_exp.txt', unpack=True)\n",
    "\n",
    "x1_rss_md, y1_rss_md = np.loadtxt('Sq_rss_md.txt', unpack=True)\n",
    "x1_rss, y1_rss = np.loadtxt('Sq_rss.txt', unpack=True)\n",
    "\n",
    "fig, ax = plt.subplots(figsize=(3, 2.6))\n",
    "\n",
    "y1_rss_md_interp = np.interp(x1_exp, x1_rss_md, y1_rss_md)\n",
    "y1_rss_interp = np.interp(x1_exp, x1_rss, y1_rss)\n",
    "\n",
    "difference_rss_md = y1_exp - y1_rss_md_interp\n",
    "difference_rss = y1_exp - y1_rss_interp\n",
    "\n",
    "ax.plot(x1_exp, difference_rss, color='#5f8ac9', label='MACE(RSS)')\n",
    "ax.plot(x1_exp, difference_rss_md, color='#cc5c5c', label='MACE(RSS+MD)')\n",
    "ax.axhline(0, linestyle='--', color='gray', linewidth=0.7)\n",
    "plt.xlabel(r\"${Q}$ ($\\mathrm{\\AA^{-1}}$)\")\n",
    "plt.ylabel(r\"Difference in S(${Q}$)\")\n",
    "ax.set_xlim(0, 10)\n",
    "ax.set_xticks(np.arange(0, 10.1, 2))\n",
    "ax.set_ylim(-1, 1) \n",
    "ax.set_yticks(np.arange(-1, 1.1, 0.5))\n",
    "ax.legend(frameon=False)\n",
    "\n",
    "plt.show()\n"
   ]
  }
 ],
 "metadata": {
  "kernelspec": {
   "display_name": "lammps-env",
   "language": "python",
   "name": "python3"
  },
  "language_info": {
   "codemirror_mode": {
    "name": "ipython",
    "version": 3
   },
   "file_extension": ".py",
   "mimetype": "text/x-python",
   "name": "python",
   "nbconvert_exporter": "python",
   "pygments_lexer": "ipython3",
   "version": "3.10.13"
  },
  "vscode": {
   "interpreter": {
    "hash": "5ce25f40a3c56c0ea487ba434c356cd7a18393e9b0d4f8cb815a97a59988b369"
   }
  }
 },
 "nbformat": 4,
 "nbformat_minor": 5
}
