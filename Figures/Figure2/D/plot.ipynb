{
 "cells": [
  {
   "cell_type": "code",
   "execution_count": null,
   "id": "2804bdd2",
   "metadata": {},
   "outputs": [],
   "source": [
    "import pandas as pd\n",
    "import matplotlib.pyplot as plt\n",
    "import numpy as np\n",
    "import matplotlib as mpl\n",
    "\n",
    "as_df = pd.read_csv(\"as_cluster_statistics.csv\")\n",
    "p_df = pd.read_csv(\"p_cluster_statistics.csv\")\n",
    "\n",
    "cols = ['p7', 'p8', 'p8_full', 'p9', 'p10']\n",
    "as_counts = as_df[cols].iloc[0]\n",
    "p_counts = p_df[cols].iloc[0]\n",
    "\n",
    "x_labels = ['X2[X3]X2', 'X3]X2[X3', 'X8', 'X9', 'X10']\n",
    "x = np.arange(len(x_labels))\n",
    "bar_width = 0.28\n",
    "\n",
    "fig, ax = plt.subplots(figsize=(4, 2.5))\n",
    "\n",
    "colors = ['#C17F91', '#7c87b5']\n",
    "\n",
    "as_counts = as_counts/2000\n",
    "p_counts = p_counts/1984\n",
    "\n",
    "ax.bar(x - bar_width/2, p_counts, bar_width, label='X=P', color='#7c87b5',rasterized=True)\n",
    "ax.bar(x + bar_width/2, as_counts, bar_width, label='X=As', color='#C17F91',rasterized=True)\n",
    "\n",
    "ax.set_xticks(x)\n",
    "ax.set_xticklabels(x_labels)\n",
    "ax.set_yscale('log')\n",
    "ax.set_ylabel('Count (per atoms)')\n",
    "ax.set_xlabel('Cluster fragments')\n",
    "ax.set_ylim([0.01, 3])\n",
    "ax.set_yticks([0.001, 0.01, 0.1, 1])\n",
    "ax.legend(frameon=False)\n",
    "\n",
    "plt.show()\n"
   ]
  }
 ],
 "metadata": {
  "kernelspec": {
   "display_name": "lammps-env",
   "language": "python",
   "name": "python3"
  },
  "language_info": {
   "codemirror_mode": {
    "name": "ipython",
    "version": 3
   },
   "file_extension": ".py",
   "mimetype": "text/x-python",
   "name": "python",
   "nbconvert_exporter": "python",
   "pygments_lexer": "ipython3",
   "version": "3.10.13"
  },
  "vscode": {
   "interpreter": {
    "hash": "5ce25f40a3c56c0ea487ba434c356cd7a18393e9b0d4f8cb815a97a59988b369"
   }
  }
 },
 "nbformat": 4,
 "nbformat_minor": 5
}
