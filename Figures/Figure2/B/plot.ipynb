{
 "cells": [
  {
   "cell_type": "code",
   "execution_count": null,
   "id": "325e82ca",
   "metadata": {},
   "outputs": [],
   "source": [
    "import numpy as np\n",
    "import matplotlib.pyplot as plt\n",
    "from scipy.ndimage import gaussian_filter1d\n",
    "from ase.io import read\n",
    "from matscipy.angle_distribution import angle_distribution\n",
    "from matscipy.neighbours import neighbour_list\n",
    "\n",
    "def calculate_adf(filepath, cutoff, nbins, sigma_deg):\n",
    "    atoms = read(filepath)\n",
    "    i, j, d = neighbour_list('ijD', atoms, cutoff=cutoff)\n",
    "    nb_angles = angle_distribution(i, j, d, nbins)\n",
    "    bin_spacing_rad = np.pi / nbins\n",
    "    angle_rad = (np.arange(nbins) + 0.5) * bin_spacing_rad\n",
    "    angle_deg = np.degrees(angle_rad)\n",
    "    total_angles = np.sum(nb_angles)\n",
    "    probability = nb_angles / (total_angles * bin_spacing_rad)\n",
    "    bin_width_deg = angle_deg[1] - angle_deg[0]\n",
    "    sigma_in_bins = sigma_deg / bin_width_deg\n",
    "    probability_smoothed = gaussian_filter1d(probability, sigma=sigma_in_bins)\n",
    "    return angle_deg, probability_smoothed\n",
    "\n",
    "files_to_process = [\n",
    "    {'path': \"a-As.extxyz\", 'label': r'${a}$-As', 'color': '#cc5c5c', 'cutoff': 2.9, 'style': '-'},\n",
    "    {'path': \"a-P.extxyz\", 'label': r'${a}$-P', 'color': '#7c87b5', 'cutoff': 2.4, 'style': '--'}\n",
    "]\n",
    "\n",
    "fig, ax = plt.subplots(figsize=(2.4, 2.4))\n",
    "nbins = 180\n",
    "smoothing_sigma = 2\n",
    "\n",
    "for idx, f in enumerate(files_to_process):\n",
    "    angle_deg, prob = calculate_adf(f['path'], f['cutoff'], nbins, smoothing_sigma)\n",
    "    if f['style'] == '--':\n",
    "        line, = ax.plot(angle_deg, prob, label=f['label'], color=f['color'], zorder=2)\n",
    "        line.set_dashes([2, 1])  \n",
    "    else:\n",
    "        ax.plot(angle_deg, prob, label=f['label'], color=f['color'], linestyle=f['style'], zorder=4)\n",
    "\n",
    "ax.set_xlabel(\"Bond angle (deg)\")\n",
    "ax.set_ylabel(\"Normalized distribution\")\n",
    "ax.set_xlim([30, 180])\n",
    "ax.set_xticks(np.arange(30, 181, 30))\n",
    "ax.set_ylim([-0.25, 5])\n",
    "ax.set_yticks(np.arange(0, 5.1, 1))\n",
    "plt.legend()\n",
    "\n",
    "plt.show()"
   ]
  }
 ],
 "metadata": {
  "kernelspec": {
   "display_name": "lammps-env",
   "language": "python",
   "name": "python3"
  },
  "language_info": {
   "codemirror_mode": {
    "name": "ipython",
    "version": 3
   },
   "file_extension": ".py",
   "mimetype": "text/x-python",
   "name": "python",
   "nbconvert_exporter": "python",
   "pygments_lexer": "ipython3",
   "version": "3.10.13"
  },
  "vscode": {
   "interpreter": {
    "hash": "5ce25f40a3c56c0ea487ba434c356cd7a18393e9b0d4f8cb815a97a59988b369"
   }
  }
 },
 "nbformat": 4,
 "nbformat_minor": 5
}
