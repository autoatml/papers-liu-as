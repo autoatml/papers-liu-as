{
 "cells": [
  {
   "cell_type": "code",
   "execution_count": null,
   "id": "308a7a1d",
   "metadata": {},
   "outputs": [],
   "source": [
    "\n",
    "import os\n",
    "import matplotlib.pyplot as plt\n",
    "import numpy as np\n",
    "\n",
    "fig, ax = plt.subplots(figsize=(2.4, 2.4))\n",
    "\n",
    "nlines = 25\n",
    "\n",
    "colors = ['#cc5c5c', '#7c87b5']\n",
    "files = ['a-As', 'a-P']\n",
    "\n",
    "y = {}\n",
    "for file in files:\n",
    "    fname = f\"rings_{file}.txt\"\n",
    "    with open(fname) as f:\n",
    "        lines = f.readlines()[:nlines]\n",
    "    if file != 'a-P':\n",
    "        y[file] = [float(line.strip()) / 2000 for line in lines]\n",
    "    else: \n",
    "        y[file] = [float(line.strip()) / 1984 for line in lines]\n",
    "\n",
    "x = np.arange(1, nlines+1)\n",
    "\n",
    "for i, file in enumerate(files):\n",
    "    label = r\"$a$-As\" if file != 'a-P' else r\"$a$-P\"\n",
    "    if i ==0:\n",
    "        ax.plot(\n",
    "            x[2:], y[file][2:],\n",
    "            label=label,\n",
    "            color=colors[i],\n",
    "            marker='o',\n",
    "            markersize=3.0,\n",
    "            linestyle='-',\n",
    "            zorder=4\n",
    "        )\n",
    "    else:\n",
    "        ax.plot(\n",
    "            x[2:], y[file][2:],\n",
    "            label=label,\n",
    "            color=colors[i],\n",
    "            marker='o',\n",
    "            markersize=3.0,\n",
    "            linestyle='--',\n",
    "            zorder=2,\n",
    "            dashes=[2,1]\n",
    "        )\n",
    "ax.set_xlabel(r\"$n$-membered rings\")\n",
    "ax.set_ylabel(\"Count (per atom)\")\n",
    "ax.set_xlim(2, 23)\n",
    "ax.set_xticks(np.arange(3, 23.1, 2))\n",
    "ax.set_ylim(-0.05, 0.5)\n",
    "ax.legend()\n",
    "ax.yaxis.set_tick_params(which='both', labelbottom=True, bottom=True, zorder=10)\n",
    "ax.xaxis.set_tick_params(which='both', labelbottom=True, bottom=True, zorder=10)\n",
    "\n",
    "plt.show()"
   ]
  }
 ],
 "metadata": {
  "kernelspec": {
   "display_name": "lammps-env",
   "language": "python",
   "name": "python3"
  },
  "language_info": {
   "codemirror_mode": {
    "name": "ipython",
    "version": 3
   },
   "file_extension": ".py",
   "mimetype": "text/x-python",
   "name": "python",
   "nbconvert_exporter": "python",
   "pygments_lexer": "ipython3",
   "version": "3.10.13"
  },
  "vscode": {
   "interpreter": {
    "hash": "5ce25f40a3c56c0ea487ba434c356cd7a18393e9b0d4f8cb815a97a59988b369"
   }
  }
 },
 "nbformat": 4,
 "nbformat_minor": 5
}
