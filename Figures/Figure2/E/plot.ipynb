{
 "cells": [
  {
   "cell_type": "code",
   "execution_count": null,
   "id": "165daeda",
   "metadata": {},
   "outputs": [],
   "source": [
    "import matplotlib.pyplot as plt\n",
    "import numpy as np\n",
    "\n",
    "fig, ax = plt.subplots(figsize=(4.0, 2.5))\n",
    "\n",
    "x_as = ['grey','fibrous', 'Hittorf', 'black', \"amorphous\", 'X4']\n",
    "y_as = np.array([-14.4593, -14.4035, -14.3940, -14.4419, -14.2986, -14.2195])\n",
    "y_as = (y_as - y_as[-1])*96.485  # eV/atom → kJ/mol\n",
    "\n",
    "x_p = ['fibrous', 'Hittorf', 'black', \"amorphous\", 'X4']\n",
    "y_p = np.array([-19.0427, -19.3338, -19.1790, -8.7798, 0])\n",
    "        \n",
    "ax.plot(\n",
    "        x_as[::-1], y_as[::-1],\n",
    "        label=r\"$a$-As\",\n",
    "        color='#cc5c5c',\n",
    "        marker='o',\n",
    "        markersize=4,\n",
    "        linestyle='--',\n",
    "        linewidth=1.0,\n",
    "        zorder=4,\n",
    "        dashes=[2,1]\n",
    ")\n",
    "\n",
    "ax.plot(\n",
    "        x_p[::-1], y_p[::-1],\n",
    "        label=r\"$a$-P\",\n",
    "        color='#7c87b5',\n",
    "        marker='o',\n",
    "        markersize=4,\n",
    "        linestyle='--',\n",
    "        linewidth=1.0,\n",
    "        zorder=2,\n",
    "        dashes=[2,1]\n",
    ")\n",
    "\n",
    "ax.set_xlabel('Structure type')\n",
    "ax.set_ylabel(r\"$\\Delta E$ (kJ $\\mathrm{mol^{-1}}$)\")\n",
    "ax.axhline(0, linestyle=(0, (8, 4)), linewidth=0.5, color='k', alpha=0.6, zorder=1)\n",
    "ax.set_ylim(-25, 2)\n",
    "ax.set_yticks(np.arange(-25, 0.1, 5))\n",
    "ax.legend()\n",
    "ax.yaxis.set_tick_params(which='both', labelbottom=True, bottom=True, zorder=10)\n",
    "ax.xaxis.set_tick_params(which='both', labelbottom=True, bottom=True, zorder=10)\n",
    "\n",
    "plt.show()"
   ]
  }
 ],
 "metadata": {
  "kernelspec": {
   "display_name": "lammps-env",
   "language": "python",
   "name": "python3"
  },
  "language_info": {
   "codemirror_mode": {
    "name": "ipython",
    "version": 3
   },
   "file_extension": ".py",
   "mimetype": "text/x-python",
   "name": "python",
   "nbconvert_exporter": "python",
   "pygments_lexer": "ipython3",
   "version": "3.10.13"
  },
  "vscode": {
   "interpreter": {
    "hash": "5ce25f40a3c56c0ea487ba434c356cd7a18393e9b0d4f8cb815a97a59988b369"
   }
  }
 },
 "nbformat": 4,
 "nbformat_minor": 5
}
