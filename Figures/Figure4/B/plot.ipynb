{
 "cells": [
  {
   "cell_type": "code",
   "execution_count": null,
   "id": "bb3f9003",
   "metadata": {},
   "outputs": [],
   "source": [
    "import os\n",
    "import numpy as np\n",
    "import matplotlib.pyplot as plt\n",
    "\n",
    "def get_large_ring_counts(pressures, base_dir, nlines, scale, start_index=10):\n",
    "    counts = []\n",
    "    for p in pressures:\n",
    "        fname = os.path.join(base_dir, f\"rings_stats_{p}gpa.txt\")\n",
    "        with open(fname) as f:\n",
    "            lines = f.readlines()[:nlines]\n",
    "        ring_counts = [float(line.strip()) for line in lines]\n",
    "        counts.append(sum(ring_counts[start_index:]) / scale)\n",
    "    return counts\n",
    "\n",
    "fig, ax = plt.subplots(figsize=(2.4, 2.4))\n",
    "\n",
    "pressures_p = [0, 1.38, 3.61, 6.3]\n",
    "counts_p = get_large_ring_counts(pressures_p, \"P\", nlines=30, scale=1984)\n",
    "ax.plot(pressures_p, counts_p, marker='o', linestyle='--', dashes=[2,1], color='#7c87b5',\n",
    "        markersize=5, label=r'$a$-P', zorder=1)\n",
    "\n",
    "pressures_as = [0, 2, 4, 6]\n",
    "counts_as = get_large_ring_counts(pressures_as, \"As\", nlines=30, scale=2000)\n",
    "ax.plot(pressures_as, counts_as, marker='o', linestyle='-', color='#cc5d5d',\n",
    "        markersize=5, label=r'$a$-As', zorder=3)\n",
    "\n",
    "ax.set_xlabel(\"Pressure (GPa)\")\n",
    "ax.set_ylabel(\"Large ring count per atom (>10)\")\n",
    "ax.set_xlim(-1, 7)\n",
    "ax.set_xticks(np.arange(0, 7, 2))\n",
    "ax.set_ylim(-0.1, 0.8)\n",
    "ax.set_yticks(np.arange(0, 0.81, 0.2))\n",
    "ax.legend()\n",
    "ax.yaxis.set_tick_params(which='both', labelbottom=True, bottom=True, zorder=10)\n",
    "ax.xaxis.set_tick_params(which='both', labelbottom=True, bottom=True, zorder=10)\n",
    "\n",
    "plt.show()"
   ]
  }
 ],
 "metadata": {
  "kernelspec": {
   "display_name": "lammps-env",
   "language": "python",
   "name": "python3"
  },
  "language_info": {
   "codemirror_mode": {
    "name": "ipython",
    "version": 3
   },
   "file_extension": ".py",
   "mimetype": "text/x-python",
   "name": "python",
   "nbconvert_exporter": "python",
   "pygments_lexer": "ipython3",
   "version": "3.10.13"
  },
  "vscode": {
   "interpreter": {
    "hash": "5ce25f40a3c56c0ea487ba434c356cd7a18393e9b0d4f8cb815a97a59988b369"
   }
  }
 },
 "nbformat": 4,
 "nbformat_minor": 5
}
