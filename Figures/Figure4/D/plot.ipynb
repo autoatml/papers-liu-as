{
 "cells": [
  {
   "cell_type": "code",
   "execution_count": null,
   "id": "dbb1ca9d",
   "metadata": {},
   "outputs": [],
   "source": [
    "import matplotlib.pyplot as plt\n",
    "import numpy as np\n",
    "import pandas as pd\n",
    "\n",
    "fig, ax = plt.subplots(figsize=(4, 2.5))\n",
    "\n",
    "file_list = [f\"p_cluster_statistics_{a}gpa.csv\" for a in [0, 1.38, 3.61, 6.3]]\n",
    "labels = [0, 1.38, 3.61, 6.3]\n",
    "\n",
    "color_palette = [\n",
    "    '#335372',\n",
    "    '#4F7BA8',\n",
    "    '#82A4C8',\n",
    "    '#A6BFD8',\n",
    "    '#C1D3E4',\n",
    "]\n",
    "\n",
    "colors = color_palette[:len(file_list)]\n",
    "\n",
    "bar_width = 0.15\n",
    "categories = ['p7', 'p8', 'p8_full', 'p9', 'p10']\n",
    "categories_label = ['P2[P3]P2', 'P3]P2[P3', 'P8', 'P9', 'P10']\n",
    "x = np.arange(len(categories))\n",
    "\n",
    "for idx, filename in enumerate(file_list):\n",
    "    df = pd.read_csv(filename)\n",
    "    values = [df[c][0]/1984 for c in categories] \n",
    "\n",
    "    ax.bar(\n",
    "        x + idx * bar_width,\n",
    "        values,\n",
    "        width=bar_width,\n",
    "        label=f'{labels[idx]} GPa',\n",
    "        color=colors[idx % len(colors)],\n",
    "        edgecolor='black',\n",
    "        linewidth=0,\n",
    "        rasterized=True,\n",
    "    )\n",
    "\n",
    "ax.set_xlabel('Cluster fragments')\n",
    "ax.set_ylabel('Count (per atoms)')\n",
    "ax.set_yscale('log')\n",
    "ax.set_xticks(x + bar_width * (len(file_list) - 1) / 2)\n",
    "ax.set_xticklabels(categories_label)\n",
    "ax.set_ylim([0.01, 3])\n",
    "ax.set_yticks([0.001, 0.01, 0.1, 1])\n",
    "ax.legend(frameon=False)\n",
    "\n",
    "plt.show()"
   ]
  }
 ],
 "metadata": {
  "kernelspec": {
   "display_name": "lammps-env",
   "language": "python",
   "name": "python3"
  },
  "language_info": {
   "codemirror_mode": {
    "name": "ipython",
    "version": 3
   },
   "file_extension": ".py",
   "mimetype": "text/x-python",
   "name": "python",
   "nbconvert_exporter": "python",
   "pygments_lexer": "ipython3",
   "version": "3.10.13"
  },
  "vscode": {
   "interpreter": {
    "hash": "5ce25f40a3c56c0ea487ba434c356cd7a18393e9b0d4f8cb815a97a59988b369"
   }
  }
 },
 "nbformat": 4,
 "nbformat_minor": 5
}
