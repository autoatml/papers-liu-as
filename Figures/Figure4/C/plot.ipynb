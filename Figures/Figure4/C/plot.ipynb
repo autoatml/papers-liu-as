{
 "cells": [
  {
   "cell_type": "code",
   "execution_count": null,
   "id": "308a7a1d",
   "metadata": {},
   "outputs": [],
   "source": [
    "import os\n",
    "import matplotlib.pyplot as plt\n",
    "import numpy as np\n",
    "\n",
    "pressures_as = [0, 2, 4, 6]\n",
    "shannon_as = [5.875, 5.868, 5.866, 5.864]\n",
    "\n",
    "pressures_p = [0, 1.38, 3.61, 6.3]\n",
    "shannon_p = [5.298, 5.347,5.389, 5.591]\n",
    "\n",
    "fig, ax = plt.subplots(figsize=(2.4, 2.4))\n",
    "\n",
    "ax.plot(\n",
    "    pressures_p,\n",
    "    shannon_p,\n",
    "    marker='o',\n",
    "    linestyle='--',\n",
    "    dashes=[2,1],\n",
    "    color='#7c87b5',\n",
    "    markersize=5,\n",
    "    label=r'$a$-P',\n",
    ")\n",
    "\n",
    "ax.plot(\n",
    "    pressures_as,\n",
    "    shannon_as,\n",
    "    marker='o',\n",
    "    linestyle='-',\n",
    "    color='#cc5d5d',\n",
    "    markersize=5,\n",
    "    label=r'$a$-As',\n",
    ")\n",
    "\n",
    "ax.set_xlabel(\"Pressure (GPa)\")\n",
    "ax.set_ylabel(\"Entropy (bits)\")\n",
    "ax.set_xlim(-1, 7)\n",
    "ax.set_xticks(np.arange(0, 6.01, 2))\n",
    "ax.set_ylim(5.0, 6.2)\n",
    "ax.set_yticks(np.arange(5.0, 6.3, 0.3))\n",
    "ax.legend()\n",
    "ax.yaxis.set_tick_params(which='both', labelbottom=True, bottom=True, zorder=10)\n",
    "ax.xaxis.set_tick_params(which='both', labelbottom=True, bottom=True, zorder=10)\n",
    "\n",
    "plt.show()\n"
   ]
  }
 ],
 "metadata": {
  "kernelspec": {
   "display_name": "lammps-env",
   "language": "python",
   "name": "python3"
  },
  "language_info": {
   "codemirror_mode": {
    "name": "ipython",
    "version": 3
   },
   "file_extension": ".py",
   "mimetype": "text/x-python",
   "name": "python",
   "nbconvert_exporter": "python",
   "pygments_lexer": "ipython3",
   "version": "3.10.13"
  },
  "vscode": {
   "interpreter": {
    "hash": "5ce25f40a3c56c0ea487ba434c356cd7a18393e9b0d4f8cb815a97a59988b369"
   }
  }
 },
 "nbformat": 4,
 "nbformat_minor": 5
}
