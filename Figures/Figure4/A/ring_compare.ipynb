{
 "cells": [
  {
   "cell_type": "code",
   "execution_count": null,
   "id": "29f8cc3d",
   "metadata": {},
   "outputs": [],
   "source": [
    "import matplotlib.pyplot as plt\n",
    "import numpy as np\n",
    "import pandas as pd\n",
    "\n",
    "fig, ax = plt.subplots(figsize=(2.4, 2.4))\n",
    "\n",
    "file_list = [f\"p_cluster_statistics_{a}gpa.csv\" for a in [0, 1.38, 3.61, 6.3]]\n",
    "labels = [0, 1.38, 3.61, 6.3]\n",
    "\n",
    "values = []\n",
    "\n",
    "for label in labels:\n",
    "     df = pd.read_csv(f\"p_cluster_statistics_{label}gpa.csv\")\n",
    "     values.append(df['r5'][0]/1984)\n",
    "\n",
    "ax.plot(\n",
    "    labels,\n",
    "    values,\n",
    "    marker='o',\n",
    "    linestyle='--',\n",
    "    dashes=[2,1],\n",
    "    color='#7c87b5',\n",
    "    markersize=5,\n",
    "    label=r\"$a$-P\",\n",
    "    zorder=3\n",
    ")\n",
    "\n",
    "file_list = [f\"as_cluster_statistics_{a}gpa.csv\" for a in [0, 2, 4, 6]]\n",
    "labels = [0, 2, 4, 6]\n",
    "values = []\n",
    "\n",
    "for label in labels:\n",
    "     df = pd.read_csv(f\"as_cluster_statistics_{label}gpa.csv\")\n",
    "     values.append(df['r5'][0]/2000)\n",
    "\n",
    "ax.plot(\n",
    "    labels,\n",
    "    values,\n",
    "    marker='o',\n",
    "    linestyle='-',\n",
    "    color='#cc5d5d',\n",
    "    markersize=5,\n",
    "    label=r\"$a$-As\" ,\n",
    "    zorder=3\n",
    ")\n",
    "\n",
    "ax.set_xlabel(\"Pressure (GPa)\")\n",
    "ax.set_ylabel(\"Five-membered rings per atom\")\n",
    "ax.set_xlim(-1, 7)\n",
    "ax.set_xticks(np.arange(0, 6.01, 2))\n",
    "ax.set_ylim(0.16, 0.5)\n",
    "ax.set_yticks(np.arange(0.2, 0.51, 0.1)) \n",
    "ax.yaxis.set_tick_params(which='both', labelbottom=True, bottom=True, zorder=10)\n",
    "ax.xaxis.set_tick_params(which='both', labelbottom=True, bottom=True, zorder=10)\n",
    "ax.legend()\n",
    "\n",
    "plt.show()"
   ]
  }
 ],
 "metadata": {
  "kernelspec": {
   "display_name": "lammps-env",
   "language": "python",
   "name": "python3"
  },
  "language_info": {
   "codemirror_mode": {
    "name": "ipython",
    "version": 3
   },
   "file_extension": ".py",
   "mimetype": "text/x-python",
   "name": "python",
   "nbconvert_exporter": "python",
   "pygments_lexer": "ipython3",
   "version": "3.10.13"
  },
  "vscode": {
   "interpreter": {
    "hash": "5ce25f40a3c56c0ea487ba434c356cd7a18393e9b0d4f8cb815a97a59988b369"
   }
  }
 },
 "nbformat": 4,
 "nbformat_minor": 5
}
